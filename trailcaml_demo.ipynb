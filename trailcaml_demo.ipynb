{
 "cells": [
  {
   "cell_type": "markdown",
   "id": "bacec440-9697-45c2-9b4e-f545f22f2aac",
   "metadata": {},
   "source": [
    "# "
   ]
  },
  {
   "cell_type": "markdown",
   "id": "3b2d2f91-c3d8-478a-bfe2-9de52a100f80",
   "metadata": {},
   "source": [
    "`pip install trailcaml`"
   ]
  },
  {
   "cell_type": "code",
   "execution_count": 13,
   "id": "e87a2916-c0eb-4509-a708-b07b9f5da63f",
   "metadata": {},
   "outputs": [
    {
     "ename": "ModuleNotFoundError",
     "evalue": "No module named 'trailcaml.utils'; 'trailcaml' is not a package",
     "output_type": "error",
     "traceback": [
      "\u001b[1;31m---------------------------------------------------------------------------\u001b[0m",
      "\u001b[1;31mModuleNotFoundError\u001b[0m                       Traceback (most recent call last)",
      "Cell \u001b[1;32mIn[13], line 2\u001b[0m\n\u001b[0;32m      1\u001b[0m \u001b[38;5;28;01mfrom\u001b[39;00m \u001b[38;5;21;01mtrailcaml\u001b[39;00m \u001b[38;5;28;01mimport\u001b[39;00m TrailCaML\n\u001b[1;32m----> 2\u001b[0m \u001b[38;5;28;01mfrom\u001b[39;00m \u001b[38;5;21;01mtrailcaml\u001b[39;00m\u001b[38;5;21;01m.\u001b[39;00m\u001b[38;5;21;01mutils\u001b[39;00m \u001b[38;5;28;01mimport\u001b[39;00m ImageLoader\n",
      "\u001b[1;31mModuleNotFoundError\u001b[0m: No module named 'trailcaml.utils'; 'trailcaml' is not a package"
     ]
    }
   ],
   "source": [
    "from trailcaml import TrailCaML\n",
    "from trailcaml.utils import ImageLoader"
   ]
  },
  {
   "cell_type": "code",
   "execution_count": null,
   "id": "2500974c-676b-477a-a4b4-978a0d21f0ef",
   "metadata": {},
   "outputs": [],
   "source": [
    "tcml = TrailCaML()"
   ]
  },
  {
   "cell_type": "code",
   "execution_count": null,
   "id": "3ac22f78-2dd4-448f-bd9e-fd8d5f629725",
   "metadata": {},
   "outputs": [],
   "source": [
    "unprocessed_images = ImageLoader(\"./images\")"
   ]
  },
  {
   "cell_type": "code",
   "execution_count": null,
   "id": "8a83bea3-7b26-49f4-abc6-e903b0c14125",
   "metadata": {},
   "outputs": [],
   "source": [
    "from dataclasses import dataclass\n",
    "from enum import Enum\n",
    "from pathlib import Path\n",
    "\n",
    "\n",
    "class Animal(Enum):\n",
    "    Deer = \"deer\"\n",
    "    Pig = \"pig\"\n",
    "    Coyote = \"coyote\"\n",
    "\n",
    "    \n",
    "@dataclass\n",
    "class Prediction:\n",
    "    image: Path\n",
    "    contains_animal: float\n",
    "    animals: dict[Animal, float]"
   ]
  },
  {
   "cell_type": "code",
   "execution_count": null,
   "id": "796354d9-19d2-4f00-8b37-7bdeba23f9a1",
   "metadata": {},
   "outputs": [],
   "source": [
    "predictions = tcml(unprocessed_images)\n",
    "predictions"
   ]
  }
 ],
 "metadata": {
  "kernelspec": {
   "display_name": "Python 3 (ipykernel)",
   "language": "python",
   "name": "python3"
  },
  "language_info": {
   "codemirror_mode": {
    "name": "ipython",
    "version": 3
   },
   "file_extension": ".py",
   "mimetype": "text/x-python",
   "name": "python",
   "nbconvert_exporter": "python",
   "pygments_lexer": "ipython3",
   "version": "3.11.9"
  }
 },
 "nbformat": 4,
 "nbformat_minor": 5
}
