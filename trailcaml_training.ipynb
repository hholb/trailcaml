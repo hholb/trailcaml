{
 "cells": [
  {
   "cell_type": "code",
   "execution_count": null,
   "id": "a0401b12-822c-433e-a833-5d88f7350ea5",
   "metadata": {},
   "outputs": [],
   "source": [
    "import lightning as L\n",
    "from lightning.pytorch.callbacks import ModelCheckpoint, EarlyStopping\n",
    "from lightning.pytorch.loggers import TensorBoardLogger\n",
    "from lightning.pytorch.tuner.tuning import Tuner\n",
    "import torch\n",
    "import torch.nn as nn\n",
    "\n",
    "from trailcaml import TrailCaML\n",
    "from datasets.trailcamera import TrailCameraDataset"
   ]
  },
  {
   "cell_type": "code",
   "execution_count": null,
   "id": "4cd4a497-82c0-4337-9aec-6361657934d5",
   "metadata": {},
   "outputs": [],
   "source": [
    "data_set = TrailCameraDataset(size=(240, 240))\n",
    "train, valid, test = data_set.dataloader_splits(num_workers=4, batch_size=32)"
   ]
  },
  {
   "cell_type": "code",
   "execution_count": null,
   "id": "5b0105d8-6564-4688-a231-3a09b00bf002",
   "metadata": {},
   "outputs": [],
   "source": [
    "x, y = next(iter(train))\n",
    "x.shape, y.shape"
   ]
  },
  {
   "cell_type": "code",
   "execution_count": null,
   "id": "8e366799-210c-4c88-a940-1a6f207019d3",
   "metadata": {},
   "outputs": [],
   "source": [
    "logger = TensorBoardLogger(save_dir=\"lightning_logs\")"
   ]
  },
  {
   "cell_type": "code",
   "execution_count": null,
   "id": "1e3b5ed2-6b7c-45e2-845b-12318157dda7",
   "metadata": {},
   "outputs": [],
   "source": [
    "epochs = 10\n",
    "trainer = L.Trainer(\n",
    "    max_epochs=epochs,\n",
    "    logger=logger,\n",
    "    log_every_n_steps=6,\n",
    "    callbacks=[\n",
    "        # Save best models\n",
    "        ModelCheckpoint(\n",
    "            monitor='val_loss',\n",
    "            mode='min',\n",
    "            save_top_k=3,\n",
    "            filename='{epoch}-{val_loss:.2f}'\n",
    "        ),\n",
    "        # Stop if not improving\n",
    "        EarlyStopping(\n",
    "            monitor='val_loss',\n",
    "            patience=5,\n",
    "            mode='min'\n",
    "        )\n",
    "    ],\n",
    "    gradient_clip_val=0.5,\n",
    "    deterministic=True\n",
    ")"
   ]
  },
  {
   "cell_type": "code",
   "execution_count": null,
   "id": "5de8ea6a-d57e-4a06-951a-7a6437dc8bb7",
   "metadata": {},
   "outputs": [],
   "source": [
    "tcml = TrailCaML(lr=1e-3, fine_tune_after=5, img_size=(240, 240))"
   ]
  },
  {
   "cell_type": "code",
   "execution_count": null,
   "id": "3ad33c04-dbfe-44ef-b43f-03fd026a2448",
   "metadata": {},
   "outputs": [],
   "source": [
    "trainer.fit(model=tcml, train_dataloaders=train, val_dataloaders=valid)"
   ]
  },
  {
   "cell_type": "code",
   "execution_count": null,
   "id": "b879b347-4b9c-4720-9bc6-2c068270ffc9",
   "metadata": {},
   "outputs": [],
   "source": [
    "validation_result = trainer.validate(tcml, valid)"
   ]
  },
  {
   "cell_type": "code",
   "execution_count": null,
   "id": "612c4559-fdfe-42a0-802a-a6b433b5c0ba",
   "metadata": {},
   "outputs": [],
   "source": [
    "test_result = trainer.test(tcml, test)"
   ]
  },
  {
   "cell_type": "code",
   "execution_count": null,
   "id": "442ea0e5-f368-4e48-864c-bf77542b32cb",
   "metadata": {},
   "outputs": [],
   "source": [
    "tcml.hparams"
   ]
  }
 ],
 "metadata": {
  "kernelspec": {
   "display_name": "Python 3 (ipykernel)",
   "language": "python",
   "name": "python3"
  },
  "language_info": {
   "codemirror_mode": {
    "name": "ipython",
    "version": 3
   },
   "file_extension": ".py",
   "mimetype": "text/x-python",
   "name": "python",
   "nbconvert_exporter": "python",
   "pygments_lexer": "ipython3",
   "version": "3.11.9"
  }
 },
 "nbformat": 4,
 "nbformat_minor": 5
}
