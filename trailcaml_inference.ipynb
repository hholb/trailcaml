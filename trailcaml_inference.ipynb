{
 "cells": [
  {
   "cell_type": "code",
   "execution_count": null,
   "id": "51025ae7-d022-4b21-aaf0-462e3ad83625",
   "metadata": {},
   "outputs": [],
   "source": [
    "import os\n",
    "from pathlib import Path\n",
    "\n",
    "import matplotlib.pyplot as plt\n",
    "from PIL import Image\n",
    "from rich import print\n",
    "import torch\n",
    "from torchvision.tv_tensors import Image as TVImage\n",
    "import torchvision.transforms.functional as F \n",
    "\n",
    "from trailcaml import TrailCaML, CategoryLabels"
   ]
  },
  {
   "cell_type": "code",
   "execution_count": null,
   "id": "20243391-76d0-4f96-b499-0afb9c202bd8",
   "metadata": {},
   "outputs": [],
   "source": [
    "def show_images(batch, n_samples=4):\n",
    "    fig, axes = plt.subplots(1, n_samples, figsize=(15, 5))\n",
    "    for i in range(n_samples):\n",
    "        img = batch[i]\n",
    "        img = F.to_pil_image(img)\n",
    "        axes[i].imshow(img)\n",
    "        axes[i].axis('off')\n",
    "    plt.show()"
   ]
  },
  {
   "cell_type": "code",
   "execution_count": null,
   "id": "cb7644f7-b7b2-4131-9874-9d7f76eb67fa",
   "metadata": {},
   "outputs": [],
   "source": [
    "image_dir = Path(\"data/20240624/\")\n",
    "jpgs = [image_dir / Path(f) for f in os.listdir(image_dir) if f.endswith(\"JPG\")]\n",
    "images = [Image.open(jpg) for jpg in jpgs]"
   ]
  },
  {
   "cell_type": "code",
   "execution_count": null,
   "id": "d1e1461b-df13-476b-b043-3c6cc93d4fa4",
   "metadata": {},
   "outputs": [],
   "source": [
    "tv_images = [TVImage(img) for img in images]"
   ]
  },
  {
   "cell_type": "code",
   "execution_count": null,
   "id": "1f5477a4-d9c4-43e2-b952-7c75bd317c8b",
   "metadata": {},
   "outputs": [],
   "source": [
    "batch = torch.stack(tv_images)\n",
    "batch.shape"
   ]
  },
  {
   "cell_type": "code",
   "execution_count": null,
   "id": "35971d7c-572f-4d3a-ae5a-9b80ddbfb34e",
   "metadata": {},
   "outputs": [],
   "source": [
    "base_dir = Path(\"lightning_logs/lightning_logs\")\n",
    "version = 14\n",
    "epoch=2\n",
    "val_loss = 0.47\n",
    "checkpoint = base_dir / f\"version_{version}/checkpoints/epoch={epoch}-val_loss={val_loss:.2f}.ckpt\"\n",
    "tcml = TrailCaML.load_from_checkpoint(checkpoint)\n",
    "tcml.freeze()"
   ]
  },
  {
   "cell_type": "code",
   "execution_count": null,
   "id": "c0f5613d-ecf5-4484-900e-afad0a800a30",
   "metadata": {},
   "outputs": [],
   "source": [
    "with torch.no_grad():\n",
    "    predictions = tcml(batch)\n",
    "    confidences = predictions.sigmoid()"
   ]
  },
  {
   "cell_type": "code",
   "execution_count": null,
   "id": "4c724ae3-996d-4e03-8a5d-3aaa7402ac28",
   "metadata": {},
   "outputs": [],
   "source": [
    "preds = [{\n",
    "    \"image\": image,\n",
    "    \"confidence\": {label: f\"{c[i].item():.2f}\" for i, label in CategoryLabels.items() if i < len(c)},\n",
    "} for image, c in zip(jpgs, confidences)]\n",
    "preds.sort(key=lambda p: p['image'])\n",
    "print(*preds)"
   ]
  }
 ],
 "metadata": {
  "kernelspec": {
   "display_name": "Python 3 (ipykernel)",
   "language": "python",
   "name": "python3"
  },
  "language_info": {
   "codemirror_mode": {
    "name": "ipython",
    "version": 3
   },
   "file_extension": ".py",
   "mimetype": "text/x-python",
   "name": "python",
   "nbconvert_exporter": "python",
   "pygments_lexer": "ipython3",
   "version": "3.11.9"
  }
 },
 "nbformat": 4,
 "nbformat_minor": 5
}
